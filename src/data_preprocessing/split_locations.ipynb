{
 "cells": [
  {
   "cell_type": "code",
   "execution_count": 24,
   "metadata": {
    "collapsed": true
   },
   "outputs": [],
   "source": [
    "import pandas as pd\n",
    "from os.path import join\n",
    "from os import makedirs\n",
    "from tqdm import tqdm"
   ]
  },
  {
   "cell_type": "code",
   "execution_count": 2,
   "outputs": [],
   "source": [
    "df_path = '/Users/akhildevarashetti/code/covid_research/nitin_2022/Data/Updated Data/mobility/Google/Global_Mobility_Report.csv'\n",
    "output_dir = '/Users/akhildevarashetti/code/covid_research/nitin_2022/Data/Updated Data/mobility/Google/split'"
   ],
   "metadata": {
    "collapsed": false
   }
  },
  {
   "cell_type": "code",
   "execution_count": 5,
   "outputs": [],
   "source": [
    "# ! mkdir \"/Users/akhildevarashetti/code/covid_research/nitin_2022/Data/Updated Data/mobility/Google/split\""
   ],
   "metadata": {
    "collapsed": false
   }
  },
  {
   "cell_type": "code",
   "execution_count": 6,
   "outputs": [
    {
     "name": "stderr",
     "output_type": "stream",
     "text": [
      "/var/folders/qz/8lxmcg3s6ls7rqr51bjgj4080000gp/T/ipykernel_18015/2810494364.py:1: DtypeWarning: Columns (3,4,5) have mixed types. Specify dtype option on import or set low_memory=False.\n",
      "  df = pd.read_csv(df_path)\n"
     ]
    }
   ],
   "source": [
    "df = pd.read_csv(df_path)"
   ],
   "metadata": {
    "collapsed": false
   }
  },
  {
   "cell_type": "code",
   "execution_count": 7,
   "outputs": [
    {
     "data": {
      "text/plain": "  country_region_code        country_region sub_region_1 sub_region_2  \\\n0                  AE  United Arab Emirates          NaN          NaN   \n1                  AE  United Arab Emirates          NaN          NaN   \n2                  AE  United Arab Emirates          NaN          NaN   \n3                  AE  United Arab Emirates          NaN          NaN   \n4                  AE  United Arab Emirates          NaN          NaN   \n\n  metro_area iso_3166_2_code  census_fips_code                     place_id  \\\n0        NaN             NaN               NaN  ChIJvRKrsd9IXj4RpwoIwFYv0zM   \n1        NaN             NaN               NaN  ChIJvRKrsd9IXj4RpwoIwFYv0zM   \n2        NaN             NaN               NaN  ChIJvRKrsd9IXj4RpwoIwFYv0zM   \n3        NaN             NaN               NaN  ChIJvRKrsd9IXj4RpwoIwFYv0zM   \n4        NaN             NaN               NaN  ChIJvRKrsd9IXj4RpwoIwFYv0zM   \n\n         date  retail_and_recreation_percent_change_from_baseline  \\\n0  2020-02-15                                                0.0    \n1  2020-02-16                                                1.0    \n2  2020-02-17                                               -1.0    \n3  2020-02-18                                               -2.0    \n4  2020-02-19                                               -2.0    \n\n   grocery_and_pharmacy_percent_change_from_baseline  \\\n0                                                4.0   \n1                                                4.0   \n2                                                1.0   \n3                                                1.0   \n4                                                0.0   \n\n   parks_percent_change_from_baseline  \\\n0                                 5.0   \n1                                 4.0   \n2                                 5.0   \n3                                 5.0   \n4                                 4.0   \n\n   transit_stations_percent_change_from_baseline  \\\n0                                            0.0   \n1                                            1.0   \n2                                            1.0   \n3                                            0.0   \n4                                           -1.0   \n\n   workplaces_percent_change_from_baseline  \\\n0                                      2.0   \n1                                      2.0   \n2                                      2.0   \n3                                      2.0   \n4                                      2.0   \n\n   residential_percent_change_from_baseline  \n0                                       1.0  \n1                                       1.0  \n2                                       1.0  \n3                                       1.0  \n4                                       1.0  ",
      "text/html": "<div>\n<style scoped>\n    .dataframe tbody tr th:only-of-type {\n        vertical-align: middle;\n    }\n\n    .dataframe tbody tr th {\n        vertical-align: top;\n    }\n\n    .dataframe thead th {\n        text-align: right;\n    }\n</style>\n<table border=\"1\" class=\"dataframe\">\n  <thead>\n    <tr style=\"text-align: right;\">\n      <th></th>\n      <th>country_region_code</th>\n      <th>country_region</th>\n      <th>sub_region_1</th>\n      <th>sub_region_2</th>\n      <th>metro_area</th>\n      <th>iso_3166_2_code</th>\n      <th>census_fips_code</th>\n      <th>place_id</th>\n      <th>date</th>\n      <th>retail_and_recreation_percent_change_from_baseline</th>\n      <th>grocery_and_pharmacy_percent_change_from_baseline</th>\n      <th>parks_percent_change_from_baseline</th>\n      <th>transit_stations_percent_change_from_baseline</th>\n      <th>workplaces_percent_change_from_baseline</th>\n      <th>residential_percent_change_from_baseline</th>\n    </tr>\n  </thead>\n  <tbody>\n    <tr>\n      <th>0</th>\n      <td>AE</td>\n      <td>United Arab Emirates</td>\n      <td>NaN</td>\n      <td>NaN</td>\n      <td>NaN</td>\n      <td>NaN</td>\n      <td>NaN</td>\n      <td>ChIJvRKrsd9IXj4RpwoIwFYv0zM</td>\n      <td>2020-02-15</td>\n      <td>0.0</td>\n      <td>4.0</td>\n      <td>5.0</td>\n      <td>0.0</td>\n      <td>2.0</td>\n      <td>1.0</td>\n    </tr>\n    <tr>\n      <th>1</th>\n      <td>AE</td>\n      <td>United Arab Emirates</td>\n      <td>NaN</td>\n      <td>NaN</td>\n      <td>NaN</td>\n      <td>NaN</td>\n      <td>NaN</td>\n      <td>ChIJvRKrsd9IXj4RpwoIwFYv0zM</td>\n      <td>2020-02-16</td>\n      <td>1.0</td>\n      <td>4.0</td>\n      <td>4.0</td>\n      <td>1.0</td>\n      <td>2.0</td>\n      <td>1.0</td>\n    </tr>\n    <tr>\n      <th>2</th>\n      <td>AE</td>\n      <td>United Arab Emirates</td>\n      <td>NaN</td>\n      <td>NaN</td>\n      <td>NaN</td>\n      <td>NaN</td>\n      <td>NaN</td>\n      <td>ChIJvRKrsd9IXj4RpwoIwFYv0zM</td>\n      <td>2020-02-17</td>\n      <td>-1.0</td>\n      <td>1.0</td>\n      <td>5.0</td>\n      <td>1.0</td>\n      <td>2.0</td>\n      <td>1.0</td>\n    </tr>\n    <tr>\n      <th>3</th>\n      <td>AE</td>\n      <td>United Arab Emirates</td>\n      <td>NaN</td>\n      <td>NaN</td>\n      <td>NaN</td>\n      <td>NaN</td>\n      <td>NaN</td>\n      <td>ChIJvRKrsd9IXj4RpwoIwFYv0zM</td>\n      <td>2020-02-18</td>\n      <td>-2.0</td>\n      <td>1.0</td>\n      <td>5.0</td>\n      <td>0.0</td>\n      <td>2.0</td>\n      <td>1.0</td>\n    </tr>\n    <tr>\n      <th>4</th>\n      <td>AE</td>\n      <td>United Arab Emirates</td>\n      <td>NaN</td>\n      <td>NaN</td>\n      <td>NaN</td>\n      <td>NaN</td>\n      <td>NaN</td>\n      <td>ChIJvRKrsd9IXj4RpwoIwFYv0zM</td>\n      <td>2020-02-19</td>\n      <td>-2.0</td>\n      <td>0.0</td>\n      <td>4.0</td>\n      <td>-1.0</td>\n      <td>2.0</td>\n      <td>1.0</td>\n    </tr>\n  </tbody>\n</table>\n</div>"
     },
     "execution_count": 7,
     "metadata": {},
     "output_type": "execute_result"
    }
   ],
   "source": [
    "df.head()"
   ],
   "metadata": {
    "collapsed": false
   }
  },
  {
   "cell_type": "code",
   "execution_count": 8,
   "outputs": [
    {
     "data": {
      "text/plain": "United States       2511994\nBrazil              1960411\nIndia                649545\nTurkey               536074\nArgentina            411307\n                     ...   \nMalta                   974\nKazakhstan              974\nPapua New Guinea        971\nGuinea-Bissau           949\nLiechtenstein           898\nName: country_region, Length: 135, dtype: int64"
     },
     "execution_count": 8,
     "metadata": {},
     "output_type": "execute_result"
    }
   ],
   "source": [
    "df.country_region.value_counts()"
   ],
   "metadata": {
    "collapsed": false
   }
  },
  {
   "cell_type": "code",
   "execution_count": 12,
   "outputs": [
    {
     "data": {
      "text/plain": "State of São Paulo            361280\nState of Minas Gerais         257096\nTexas                         185210\nState of Paraná               151299\nState of Rio Grande do Sul    149239\n                               ...  \nJēkabpils Municipality             3\nBaldone Municipality               2\nSalacgrīva Municipality            2\nWajir County                       2\nKrimulda Municipality              1\nName: sub_region_1, Length: 1860, dtype: int64"
     },
     "execution_count": 12,
     "metadata": {},
     "output_type": "execute_result"
    }
   ],
   "source": [
    "# States\n",
    "df.sub_region_1.value_counts()"
   ],
   "metadata": {
    "collapsed": false
   }
  },
  {
   "cell_type": "code",
   "execution_count": 13,
   "outputs": [
    {
     "data": {
      "text/plain": "Washington County    26372\nJefferson County     21673\nFranklin County      20665\nJackson County       18877\nLincoln County       17862\n                     ...  \nOntonagon County         3\nNome                     2\nReal County              1\nLyman County             1\nWheeler County           1\nName: sub_region_2, Length: 9914, dtype: int64"
     },
     "execution_count": 13,
     "metadata": {},
     "output_type": "execute_result"
    }
   ],
   "source": [
    "# County\n",
    "df.sub_region_2.value_counts()"
   ],
   "metadata": {
    "collapsed": false
   }
  },
  {
   "cell_type": "code",
   "execution_count": 17,
   "outputs": [],
   "source": [
    "df['country_state'] = df.country_region + \"|\" + df.sub_region_1\n",
    "df['country_state_county'] = df.country_region + \"|\" + df.sub_region_1 + \"|\" + df.sub_region_2"
   ],
   "metadata": {
    "collapsed": false
   }
  },
  {
   "cell_type": "code",
   "execution_count": 18,
   "outputs": [],
   "source": [
    "dfs_country = dict(tuple(df.groupby('country_region')))\n",
    "dfs_country_state = dict(tuple(df.groupby('country_state')))\n",
    "dfs_country_state_county = dict(tuple(df.groupby('country_state_county')))"
   ],
   "metadata": {
    "collapsed": false
   }
  },
  {
   "cell_type": "code",
   "execution_count": 23,
   "outputs": [],
   "source": [
    "# Save country data\n",
    "for country, d in tqdm(dfs_country.items()):\n",
    "    makedirs(join(output_dir, country), exist_ok=True)\n",
    "    d.to_csv(join(output_dir, country, f'{country}.csv'))"
   ],
   "metadata": {
    "collapsed": false
   }
  },
  {
   "cell_type": "code",
   "execution_count": 25,
   "outputs": [
    {
     "name": "stderr",
     "output_type": "stream",
     "text": [
      "100%|██████████| 1872/1872 [01:02<00:00, 30.12it/s] \n"
     ]
    }
   ],
   "source": [
    "# Save country_state data\n",
    "for country_state, d in tqdm(dfs_country_state.items()):\n",
    "    country, state = country_state.split('|')\n",
    "    makedirs(join(output_dir, country, state), exist_ok=True)\n",
    "    d.to_csv(join(output_dir, country, state, f'{country}__{state}.csv'))"
   ],
   "metadata": {
    "collapsed": false
   }
  },
  {
   "cell_type": "code",
   "execution_count": 28,
   "outputs": [
    {
     "name": "stderr",
     "output_type": "stream",
     "text": [
      "100%|██████████| 11204/11204 [00:57<00:00, 196.08it/s]\n"
     ]
    }
   ],
   "source": [
    "# Save country_state data\n",
    "for country_state_county, d in tqdm(dfs_country_state_county.items()):\n",
    "    country, state, county = country_state_county.split('|')\n",
    "    makedirs(join(output_dir, country, state), exist_ok=True)\n",
    "    county = county.replace('/', ' or ')\n",
    "    d.to_csv(join(output_dir, country, state, f'{country}__{state}__{county}.csv'))"
   ],
   "metadata": {
    "collapsed": false
   }
  },
  {
   "cell_type": "code",
   "execution_count": null,
   "outputs": [],
   "source": [],
   "metadata": {
    "collapsed": false
   }
  }
 ],
 "metadata": {
  "kernelspec": {
   "display_name": "Python 3",
   "language": "python",
   "name": "python3"
  },
  "language_info": {
   "codemirror_mode": {
    "name": "ipython",
    "version": 2
   },
   "file_extension": ".py",
   "mimetype": "text/x-python",
   "name": "python",
   "nbconvert_exporter": "python",
   "pygments_lexer": "ipython2",
   "version": "2.7.6"
  }
 },
 "nbformat": 4,
 "nbformat_minor": 0
}
