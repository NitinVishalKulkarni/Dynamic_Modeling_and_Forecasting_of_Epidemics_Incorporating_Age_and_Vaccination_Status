{
 "cells": [
  {
   "cell_type": "code",
   "execution_count": 9,
   "outputs": [],
   "source": [
    "from stable_baselines3.common.vec_env import DummyVecEnv, VecFrameStack\n",
    "from epidemic_simulation_environment import EpidemicSimulation\n",
    "from settings import DATA_DIR, BASE_DIR\n",
    "import stable_baselines3\n",
    "from stable_baselines3.common.env_checker import check_env\n",
    "import gymnasium as gym\n",
    "import numpy as np\n",
    "from gymnasium import spaces"
   ],
   "metadata": {
    "collapsed": false
   }
  },
  {
   "cell_type": "markdown",
   "source": [
    "To make Stable-Baselines3 work with gymnasium, install this:\n",
    "\n",
    "```\n",
    "pip install git+https://github.com/DLR-RM/stable-baselines3@feat/gymnasium-support\n",
    "pip install git+https://github.com/Stable-Baselines-Team/stable-baselines3-contrib@feat/gymnasium-support\n",
    "```"
   ],
   "metadata": {
    "collapsed": false
   }
  },
  {
   "cell_type": "code",
   "execution_count": 7,
   "outputs": [],
   "source": [
    "def create_env():\n",
    "    env = EpidemicSimulation(\n",
    "        data_path=f\"{DATA_DIR}/Updated Data/epidemiological_model_data/\",\n",
    "        state_name=\"new_york\",\n",
    "        state_population=19_453_734,\n",
    "        start_date=\"11/01/2021\",\n",
    "    )\n",
    "\n",
    "    class SB3Observation(gym.ObservationWrapper):\n",
    "        def __init__(self, env):\n",
    "            super().__init__(env)\n",
    "            self.observation_space = spaces.Box(low=-np.inf, high=np.inf, shape=(4,), dtype=np.float64)\n",
    "\n",
    "        def observation(self, obs):\n",
    "            return np.array(obs)\n",
    "\n",
    "    env = SB3Observation(env)\n",
    "    return env"
   ],
   "metadata": {
    "collapsed": false
   }
  },
  {
   "cell_type": "code",
   "execution_count": 22,
   "outputs": [],
   "source": [
    "check_env(create_env())"
   ],
   "metadata": {
    "collapsed": false
   }
  },
  {
   "cell_type": "code",
   "execution_count": 23,
   "outputs": [],
   "source": [
    "env = DummyVecEnv([create_env] * 4)\n",
    "env = VecFrameStack(env, n_stack=2)"
   ],
   "metadata": {
    "collapsed": false
   }
  },
  {
   "cell_type": "code",
   "execution_count": 24,
   "outputs": [
    {
     "data": {
      "text/plain": "(4, 8)"
     },
     "execution_count": 24,
     "metadata": {},
     "output_type": "execute_result"
    }
   ],
   "source": [
    "env.reset().shape"
   ],
   "metadata": {
    "collapsed": false
   }
  },
  {
   "cell_type": "code",
   "execution_count": null,
   "outputs": [
    {
     "name": "stdout",
     "output_type": "stream",
     "text": [
      "Using cpu device\n",
      "Logging to /Users/akhildevarashetti/code/covid_research/nitin22/src/rl_algorithms/pytorch/logs/PPO_1\n",
      "-----------------------------\n",
      "| time/              |      |\n",
      "|    fps             | 4701 |\n",
      "|    iterations      | 1    |\n",
      "|    time_elapsed    | 1    |\n",
      "|    total_timesteps | 8192 |\n",
      "-----------------------------\n",
      "-------------------------------------------\n",
      "| time/                   |               |\n",
      "|    fps                  | 3627          |\n",
      "|    iterations           | 2             |\n",
      "|    time_elapsed         | 4             |\n",
      "|    total_timesteps      | 16384         |\n",
      "| train/                  |               |\n",
      "|    approx_kl            | 6.7793662e-06 |\n",
      "|    clip_fraction        | 0             |\n",
      "|    clip_range           | 0.2           |\n",
      "|    entropy_loss         | -2.48         |\n",
      "|    explained_variance   | -4.77e-07     |\n",
      "|    learning_rate        | 0.0003        |\n",
      "|    loss                 | 1.46e+09      |\n",
      "|    n_updates            | 10            |\n",
      "|    policy_gradient_loss | -8.52e-05     |\n",
      "|    value_loss           | 3.24e+09      |\n",
      "-------------------------------------------\n",
      "-------------------------------------------\n",
      "| time/                   |               |\n",
      "|    fps                  | 3305          |\n",
      "|    iterations           | 3             |\n",
      "|    time_elapsed         | 7             |\n",
      "|    total_timesteps      | 24576         |\n",
      "| train/                  |               |\n",
      "|    approx_kl            | 5.1846655e-06 |\n",
      "|    clip_fraction        | 0             |\n",
      "|    clip_range           | 0.2           |\n",
      "|    entropy_loss         | -2.48         |\n",
      "|    explained_variance   | 4.77e-07      |\n",
      "|    learning_rate        | 0.0003        |\n",
      "|    loss                 | 2.27e+09      |\n",
      "|    n_updates            | 20            |\n",
      "|    policy_gradient_loss | -7.35e-05     |\n",
      "|    value_loss           | 3.46e+09      |\n",
      "-------------------------------------------\n",
      "-------------------------------------------\n",
      "| time/                   |               |\n",
      "|    fps                  | 3168          |\n",
      "|    iterations           | 4             |\n",
      "|    time_elapsed         | 10            |\n",
      "|    total_timesteps      | 32768         |\n",
      "| train/                  |               |\n",
      "|    approx_kl            | 1.0499069e-05 |\n",
      "|    clip_fraction        | 0             |\n",
      "|    clip_range           | 0.2           |\n",
      "|    entropy_loss         | -2.48         |\n",
      "|    explained_variance   | 1.79e-07      |\n",
      "|    learning_rate        | 0.0003        |\n",
      "|    loss                 | 1.97e+09      |\n",
      "|    n_updates            | 30            |\n",
      "|    policy_gradient_loss | -0.000114     |\n",
      "|    value_loss           | 3.15e+09      |\n",
      "-------------------------------------------\n",
      "------------------------------------------\n",
      "| time/                   |              |\n",
      "|    fps                  | 3090         |\n",
      "|    iterations           | 5            |\n",
      "|    time_elapsed         | 13           |\n",
      "|    total_timesteps      | 40960        |\n",
      "| train/                  |              |\n",
      "|    approx_kl            | 9.168005e-06 |\n",
      "|    clip_fraction        | 0            |\n",
      "|    clip_range           | 0.2          |\n",
      "|    entropy_loss         | -2.48        |\n",
      "|    explained_variance   | 1.79e-07     |\n",
      "|    learning_rate        | 0.0003       |\n",
      "|    loss                 | 2.01e+09     |\n",
      "|    n_updates            | 40           |\n",
      "|    policy_gradient_loss | -0.000102    |\n",
      "|    value_loss           | 3.22e+09     |\n",
      "------------------------------------------\n",
      "-------------------------------------------\n",
      "| time/                   |               |\n",
      "|    fps                  | 3042          |\n",
      "|    iterations           | 6             |\n",
      "|    time_elapsed         | 16            |\n",
      "|    total_timesteps      | 49152         |\n",
      "| train/                  |               |\n",
      "|    approx_kl            | 4.6324785e-06 |\n",
      "|    clip_fraction        | 0             |\n",
      "|    clip_range           | 0.2           |\n",
      "|    entropy_loss         | -2.48         |\n",
      "|    explained_variance   | 0             |\n",
      "|    learning_rate        | 0.0003        |\n",
      "|    loss                 | 1.58e+09      |\n",
      "|    n_updates            | 50            |\n",
      "|    policy_gradient_loss | -5.74e-05     |\n",
      "|    value_loss           | 3.33e+09      |\n",
      "-------------------------------------------\n",
      "-------------------------------------------\n",
      "| time/                   |               |\n",
      "|    fps                  | 3006          |\n",
      "|    iterations           | 7             |\n",
      "|    time_elapsed         | 19            |\n",
      "|    total_timesteps      | 57344         |\n",
      "| train/                  |               |\n",
      "|    approx_kl            | 7.2984913e-06 |\n",
      "|    clip_fraction        | 0             |\n",
      "|    clip_range           | 0.2           |\n",
      "|    entropy_loss         | -2.48         |\n",
      "|    explained_variance   | 0             |\n",
      "|    learning_rate        | 0.0003        |\n",
      "|    loss                 | 1.82e+09      |\n",
      "|    n_updates            | 60            |\n",
      "|    policy_gradient_loss | -0.000107     |\n",
      "|    value_loss           | 3.28e+09      |\n",
      "-------------------------------------------\n",
      "-------------------------------------------\n",
      "| time/                   |               |\n",
      "|    fps                  | 2987          |\n",
      "|    iterations           | 8             |\n",
      "|    time_elapsed         | 21            |\n",
      "|    total_timesteps      | 65536         |\n",
      "| train/                  |               |\n",
      "|    approx_kl            | 3.4546829e-06 |\n",
      "|    clip_fraction        | 0             |\n",
      "|    clip_range           | 0.2           |\n",
      "|    entropy_loss         | -2.48         |\n",
      "|    explained_variance   | -1.19e-07     |\n",
      "|    learning_rate        | 0.0003        |\n",
      "|    loss                 | 1.9e+09       |\n",
      "|    n_updates            | 70            |\n",
      "|    policy_gradient_loss | -5.92e-05     |\n",
      "|    value_loss           | 3e+09         |\n",
      "-------------------------------------------\n",
      "-------------------------------------------\n",
      "| time/                   |               |\n",
      "|    fps                  | 2981          |\n",
      "|    iterations           | 9             |\n",
      "|    time_elapsed         | 24            |\n",
      "|    total_timesteps      | 73728         |\n",
      "| train/                  |               |\n",
      "|    approx_kl            | 6.7798683e-06 |\n",
      "|    clip_fraction        | 0             |\n",
      "|    clip_range           | 0.2           |\n",
      "|    entropy_loss         | -2.48         |\n",
      "|    explained_variance   | 0             |\n",
      "|    learning_rate        | 0.0003        |\n",
      "|    loss                 | 1.81e+09      |\n",
      "|    n_updates            | 80            |\n",
      "|    policy_gradient_loss | -8.73e-05     |\n",
      "|    value_loss           | 3.54e+09      |\n",
      "-------------------------------------------\n"
     ]
    }
   ],
   "source": [
    "model = stable_baselines3.PPO('MlpPolicy', env, verbose=1, tensorboard_log=f'{BASE_DIR}/rl_algorithms/pytorch/logs')\n",
    "model.learn(total_timesteps=100_000)"
   ],
   "metadata": {
    "collapsed": false,
    "pycharm": {
     "is_executing": true
    }
   }
  },
  {
   "cell_type": "code",
   "execution_count": null,
   "outputs": [],
   "source": [],
   "metadata": {
    "collapsed": false
   }
  }
 ],
 "metadata": {
  "kernelspec": {
   "display_name": "Python 3",
   "language": "python",
   "name": "python3"
  },
  "language_info": {
   "codemirror_mode": {
    "name": "ipython",
    "version": 2
   },
   "file_extension": ".py",
   "mimetype": "text/x-python",
   "name": "python",
   "nbconvert_exporter": "python",
   "pygments_lexer": "ipython2",
   "version": "2.7.6"
  }
 },
 "nbformat": 4,
 "nbformat_minor": 0
}
